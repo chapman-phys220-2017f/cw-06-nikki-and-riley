{
 "cells": [
  {
   "cell_type": "code",
   "execution_count": 1,
   "metadata": {
    "collapsed": false
   },
   "outputs": [
   ],
   "source": [
    "import numpy as np    # Numeric python\n",
    "import sympy as sp    # Symbolic python\n",
    "import pandas as pd   # Data processing python\n",
    "\n",
    "# By convention, import all modules at the top of the notebook so they don't get in the way later\n",
    "# Import only the modules you actually use!\n",
    "\n",
    "# Plotting library\n",
    "import matplotlib.pyplot as plt\n",
    "\n",
    "# Needed only to render matplotlib plots inside the notebook properly\n",
    "%matplotlib inline"
   ]
  },
  {
   "cell_type": "markdown",
   "metadata": {
    "collapsed": false
   },
   "source": [
    "# Classwork 6\n",
    "\n",
    "Nikki Schwartz and Riley Kendall\n",
    "\n",
    "October 10, 2017"
   ]
  },
  {
   "cell_type": "markdown",
   "metadata": {
    "collapsed": false
   },
   "source": [
    "## Introduction\n",
    "\n",
    "In this assignment, we will start going deeper into the tools we have already learned. Let us practice thinking in arrays more directly.\n",
    "\n",
    "1. In a python module ```array_calculus.py``` create a central finite difference linear operator represented by a 2-dimensional matrix. That is, define a function ```derivative(a,b,n)``` that takes three input parameters, the two endpoints of the domain $[a,b]$ on which the derivative acts and the number of *points* $n$ into which that domain is partitioned (yielding $n-1$ intervals), and returns a single two-dimensional numpy array $D$ of dimension $n\\times n$ that represents the finite difference operation. Done correctly, given a discrete function approximation represented by an $n$-dimensional array $f = [f_0, \\ldots, f_{n-1}]$ defined as $f_i = f(x_i)$ on the grid of points $x_i$ from $i=0$ to $i=n$ with fixed spacing $x_{i+1} - x_i = dx$, where $dx = (b-a)/(n-1)$, applying the central difference matrix should yield a new $n$-dimensional array $Df = [(Df)_0, \\ldots, (DF)_{n-1}]$ with interior points: $$(Df)_i = \\frac{f_{i+1} - f_{i-1}}{2dx}.$$ Note that the numpy matrix product operation is ```@```, as opposed to ```*```, which performs component-wise products. For the boundary points, use the appropriate forward or backward finite difference formula instead of the central difference formula above. Write tests of your implementation in the module ```test_array_calculus.py``` to make sure it works as you expect. (Extra credit: Try to use features of numpy to avoid explicit for loops---see if you can define the derivative matrix entirely using clever manipulation of array features.)\n",
    "1. In a Jupyter notebook, ```calculus.ipynb```, describe the problem, describe what the form of the derivative matrix should look like using $\\LaTeX$ code, then demonstrate your solution by plotting the test functions: $f(x) = x^2$, $s(x) = \\sin(x)$, and $g(x) = \\exp(-x^2/2)/\\sqrt{2\\pi}$. For each function, make a separate plot of the function and its derivative together, with an appropriate legend labeling the curves. Title each plot in an informative way, and choose domains and ranges of each plot that sensibly show your results. (You should write your plotting code in the ```array_calculus.py``` module to be tidy, then import that module and run the appropriate functions in the notebook to generate the desired plots.) Explain whether the results match your intuition, and how changing the number of points $n$ affects your solutions.\n",
    "1. Similar to the first problem, create a second-order central finite difference linear operator $D_2$ represented by a 2-dimensional matrix (i.e., repeat the first-order finite difference formula from above twice - what second-order formula do you get?). Write a function ```second_derivative(a,b,n)``` that returns a second-order derivative matrix  $D2$ using the explicit second-order different formulas. (Extra credit: Try to avoid explict for loops as in the first derivative implementation.) Is the returned matrix $D_2$ equal to the matrix product of $D$ from the previous exercise with itself? Write suitable tests in ```test_array_calculus.py``` to convince yourself that your code is working correctly. Update your plotting code to include the second-order derivative of each function in the same plots you made before. Update your notebook to discuss the second-order derivative, both in the equations, around the plots, and in your conclusions.\n",
    "1. (Extra credit: Is it possible to define such a derivative operator for a non-uniform mesh spacing, meaning a domain that does not have equal spacings $dx$ between each point? If so, try it and plot your results!)\n",
    "\n",
    "Pro-tip: using git to manage conflicts on Jupyter notebooks is a pain. I recommend delegating one person from your group to edit the notebook, to avoid merge conflicts.\n"
   ]
  },
  {
   "cell_type": "markdown",
   "metadata": {
    "collapsed": false
   },
   "source": [
    "### Creating Reports\n",
    "\n",
    "When preparing a Jupyter notebook, treat it like a professional report. It should be a well-formatted, aesthetic-looking document that describes exactly what you are doing and why. Large blocks of code should be imported as modules, rather than copy-pasted whole-sale into the notebook.  Any code that appears in the notebook should be short, sweet, and to the point.  As an example, here is a demonstration of the plotting package Matplotlib, which is designed to be as similar as possible to the way MATLAB plots:"
   ]
  },
  {
   "cell_type": "code",
   "execution_count": 2,
   "metadata": {
    "collapsed": false
   },
   "outputs": [
    {
     "data": {
      "image/png": "[encoded data removed]"
     },
     "output_type": "execute_result"
    }
   ],
   "source": [
    "# Plot a sum of sines using Matplotlib\n",
    "\n",
    "x = np.linspace(0,10,100)\n",
    "f = 2 * np.sin(2*x) + 3 * np.cos(x)\n",
    "\n",
    "fig = plt.figure(1)\n",
    "plt.plot(x, f)\n",
    "plt.xlabel(\"x\")\n",
    "plt.ylabel(\"f(x)\")\n",
    "plt.show(fig)"
   ]
  },
  {
   "cell_type": "markdown",
   "metadata": {
    "collapsed": false
   },
   "source": [
    "Code block in notebooks should not be much longer than the above. Ideally, they should be single function calls. Longer code blocks should be put into modules with extension .py and then imported at the beginning of the notebook.  The notebook itself should focus on results, not on reading long blocks of code.\n",
    "\n",
    "For another example using dynamically updated data from the web:"
   ]
  },
  {
   "cell_type": "code",
   "execution_count": 3,
   "metadata": {
    "collapsed": false
   },
   "outputs": [
    {
     "data": {
      "image/png": "[encoded data removed]"
     },
     "output_type": "execute_result"
    }
   ],
   "source": [
    "# Grab the current GOOG stock data using the data-processing package pandas\n",
    "\n",
    "AAPL = pd.read_csv(\n",
    "        \"http://www.google.com/finance/historical?q=GOOG&output=csv\",\n",
    "        parse_dates=['Date']\n",
    "    )\n",
    "\n",
    "fig2 = plt.figure(2)\n",
    "plt.plot(AAPL['Date'], AAPL['Close'], color='navy', alpha=0.5)\n",
    "plt.xlabel(\"Date\")\n",
    "plt.ylabel(\"Stock Value\")\n",
    "plt.show(fig2)"
   ]
  },
  {
   "cell_type": "markdown",
   "metadata": {
    "collapsed": false
   },
   "source": [
   ]
  },
  {
   "cell_type": "markdown",
   "metadata": {
    "collapsed": false
   },
   "source": [
    "# Exporting your notebook\n",
    "\n",
    "In the File menu, you can Download your notebook as a number of different formats if desired, including pdf via $\\LaTeX$.  A notebook that is properly formatted with Markdown headings and paragraphs should generally produce a reasonably good looking pdf document."
   ]
  },
  {
   "cell_type": "markdown",
   "metadata": {
    "collapsed": false
   },
   "source": [
    "## Conclusion\n",
    "\n",
    "Happy notebooking."
   ]
  }
 ],
 "metadata": {
  "kernelspec": {
   "display_name": "Python 3 (Anaconda)",
   "language": "python",
   "name": "anaconda3"
  },
  "language_info": {
   "codemirror_mode": {
    "name": "ipython",
    "version": 3
   },
   "file_extension": ".py",
   "mimetype": "text/x-python",
   "name": "python",
   "nbconvert_exporter": "python",
   "pygments_lexer": "ipython3",
   "version": "3.5.4"
  },
  "name": "Jupyter_example.ipynb"
 },
 "nbformat": 4,
 "nbformat_minor": 0
}